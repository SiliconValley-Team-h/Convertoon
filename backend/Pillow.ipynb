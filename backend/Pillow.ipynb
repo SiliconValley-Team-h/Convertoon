{
 "cells": [
  {
   "cell_type": "code",
   "execution_count": 1,
   "metadata": {},
   "outputs": [],
   "source": [
    "# _*_ coding: utf-8 _*_\n",
    "import sys\n",
    "from PIL import Image\n",
    "from PIL import ImageDraw\n",
    "from PIL import ImageFont\n",
    "import numpy as np\n",
    "import ast"
   ]
  },
  {
   "cell_type": "code",
   "execution_count": 2,
   "metadata": {},
   "outputs": [],
   "source": [
    "image=Image.open(\"./convertoon/media/test1.jpg\")\n"
   ]
  },
  {
   "cell_type": "code",
   "execution_count": 3,
   "metadata": {},
   "outputs": [],
   "source": [
    "listTextExtract=[\n",
    "    {\n",
    "        \"model\": \"textExtract.extracttext\",\n",
    "        \"pk\": 35,\n",
    "        \"fields\": {\n",
    "            \"src_img_id\": 6,\n",
    "            \"res_img_id\": 6,\n",
    "            \"src_text\": \"아 예\",\n",
    "            \"trs_text\": \"Oh, yes\",\n",
    "            \"coordinate\": \"[[117, 49], [229, 49], [229, 109], [117, 109]]\"\n",
    "        }\n",
    "    },\n",
    "    {\n",
    "        \"model\": \"textExtract.extracttext\",\n",
    "        \"pk\": 36,\n",
    "        \"fields\": {\n",
    "            \"src_img_id\": 6,\n",
    "            \"res_img_id\": 6,\n",
    "            \"src_text\": \"저논 졸업하고\",\n",
    "            \"trs_text\": \"After I graduated,\",\n",
    "            \"coordinate\": \"[[27, 102], [319, 102], [319, 169], [27, 169]]\"\n",
    "        }\n",
    "    },\n",
    "    {\n",
    "        \"model\": \"textExtract.extracttext\",\n",
    "        \"pk\": 39,\n",
    "        \"fields\": {\n",
    "            \"src_img_id\": 6,\n",
    "            \"res_img_id\": 6,\n",
    "            \"src_text\": \"대학원\",\n",
    "            \"trs_text\": \"Graduate school\",\n",
    "            \"coordinate\": \"[[585, 647], [727, 647], [727, 709], [585, 709]]\"\n",
    "        }\n",
    "    },\n",
    "    {\n",
    "        \"model\": \"textExtract.extracttext\",\n",
    "        \"pk\": 40,\n",
    "        \"fields\": {\n",
    "            \"src_img_id\": 6,\n",
    "            \"res_img_id\": 6,\n",
    "            \"src_text\": \"가려고요!\",\n",
    "            \"trs_text\": \"I'm going to go!\",\n",
    "            \"coordinate\": \"[[557, 705], [767, 705], [767, 765], [557, 765]]\"\n",
    "        }\n",
    "    }\n",
    "]"
   ]
  },
  {
   "cell_type": "code",
   "execution_count": 4,
   "metadata": {},
   "outputs": [],
   "source": [
    "fontsize = 25\n",
    "fnt = ImageFont.truetype(\"./Font/Roboto-Black.ttf\", fontsize, encoding=\"UTF-8\")"
   ]
  },
  {
   "cell_type": "code",
   "execution_count": 5,
   "metadata": {},
   "outputs": [
    {
     "name": "stdout",
     "output_type": "stream",
     "text": [
      "[[117, 49], [229, 49], [229, 109], [117, 109]]\n",
      "[117, 49, 229, 109]\n",
      "[[27, 102], [319, 102], [319, 169], [27, 169]]\n",
      "[27, 102, 319, 169]\n",
      "[[585, 647], [727, 647], [727, 709], [585, 709]]\n",
      "[585, 647, 727, 709]\n",
      "[[557, 705], [767, 705], [767, 765], [557, 765]]\n",
      "[557, 705, 767, 765]\n"
     ]
    }
   ],
   "source": [
    "draw = ImageDraw.Draw(image)\n",
    "for text in listTextExtract:\n",
    "    coord = ast.literal_eval(text['fields']['coordinate'])\n",
    "    print(coord)\n",
    "    rect = []\n",
    "    rect.extend(coord[0])\n",
    "    rect.extend(coord[2])\n",
    "    print(rect)\n",
    "    draw.rectangle(rect, outline=(255,255,255,0),fill=(255,255,255,0),width=2 )\n",
    "\n",
    "    \n",
    "    "
   ]
  },
  {
   "cell_type": "code",
   "execution_count": 6,
   "metadata": {},
   "outputs": [],
   "source": [
    "image.show()"
   ]
  },
  {
   "cell_type": "code",
   "execution_count": 16,
   "metadata": {},
   "outputs": [],
   "source": [
    "for text in listTextExtract:\n",
    "    coord = ast.literal_eval(text['fields']['coordinate'])\n",
    "    rect = []\n",
    "    rect.extend(coord[0])\n",
    "    rect.extend(coord[2])\n",
    "    tw, th = fnt.getsize(enText)\n",
    "    enText = text['fields']['trs_text']\n",
    "    draw.text((rect[0],rect[1]),enText,font=fnt,fill=\"black\")"
   ]
  },
  {
   "cell_type": "code",
   "execution_count": 17,
   "metadata": {},
   "outputs": [],
   "source": [
    "image.show()"
   ]
  },
  {
   "cell_type": "code",
   "execution_count": 18,
   "metadata": {},
   "outputs": [
    {
     "data": {
      "text/plain": [
       "PIL.JpegImagePlugin.JpegImageFile"
      ]
     },
     "execution_count": 18,
     "metadata": {},
     "output_type": "execute_result"
    }
   ],
   "source": [
    "type(image)"
   ]
  },
  {
   "cell_type": "code",
   "execution_count": 19,
   "metadata": {},
   "outputs": [
    {
     "ename": "NameError",
     "evalue": "name 'null' is not defined",
     "output_type": "error",
     "traceback": [
      "\u001b[1;31m---------------------------------------------------------------------------\u001b[0m",
      "\u001b[1;31mNameError\u001b[0m                                 Traceback (most recent call last)",
      "\u001b[1;32m<ipython-input-19-6b5a1e436da5>\u001b[0m in \u001b[0;36m<module>\u001b[1;34m\u001b[0m\n\u001b[0;32m      5\u001b[0m         \"fields\": {\n\u001b[0;32m      6\u001b[0m             \u001b[1;34m\"src_img_id\"\u001b[0m\u001b[1;33m:\u001b[0m \u001b[1;36m6\u001b[0m\u001b[1;33m,\u001b[0m\u001b[1;33m\u001b[0m\u001b[1;33m\u001b[0m\u001b[0m\n\u001b[1;32m----> 7\u001b[1;33m             \u001b[1;34m\"res_img_id\"\u001b[0m\u001b[1;33m:\u001b[0m \u001b[0mnull\u001b[0m\u001b[1;33m,\u001b[0m\u001b[1;33m\u001b[0m\u001b[1;33m\u001b[0m\u001b[0m\n\u001b[0m\u001b[0;32m      8\u001b[0m             \u001b[1;34m\"src_text\"\u001b[0m\u001b[1;33m:\u001b[0m \u001b[1;34m\"아 예\"\u001b[0m\u001b[1;33m,\u001b[0m\u001b[1;33m\u001b[0m\u001b[1;33m\u001b[0m\u001b[0m\n\u001b[0;32m      9\u001b[0m             \u001b[1;34m\"trs_text\"\u001b[0m\u001b[1;33m:\u001b[0m \u001b[0mnull\u001b[0m\u001b[1;33m,\u001b[0m\u001b[1;33m\u001b[0m\u001b[1;33m\u001b[0m\u001b[0m\n",
      "\u001b[1;31mNameError\u001b[0m: name 'null' is not defined"
     ]
    }
   ],
   "source": [
    "[\n",
    "    {\n",
    "        \"model\": \"textExtract.extracttext\",\n",
    "        \"pk\": 35,\n",
    "        \"fields\": {\n",
    "            \"src_img_id\": 6,\n",
    "            \"res_img_id\": null,\n",
    "            \"src_text\": \"아 예\",\n",
    "            \"trs_text\": null,\n",
    "            \"coordinate\": \"[[117, 49], [229, 49], [229, 109], [117, 109]]\"\n",
    "        }\n",
    "    },\n",
    "    {\n",
    "        \"model\": \"textExtract.extracttext\",\n",
    "        \"pk\": 36,\n",
    "        \"fields\": {\n",
    "            \"src_img_id\": 6,\n",
    "            \"res_img_id\": null,\n",
    "            \"src_text\": \"저논 졸업하고\",\n",
    "            \"trs_text\": null,\n",
    "            \"coordinate\": \"[[27, 102], [319, 102], [319, 169], [27, 169]]\"\n",
    "        }\n",
    "    },\n",
    "    {\n",
    "        \"model\": \"textExtract.extracttext\",\n",
    "        \"pk\": 37,\n",
    "        \"fields\": {\n",
    "            \"src_img_id\": 6,\n",
    "            \"res_img_id\": null,\n",
    "            \"src_text\": \"{해\",\n",
    "            \"trs_text\": null,\n",
    "            \"coordinate\": \"[[146, 348], [216, 348], [216, 402], [146, 402]]\"\n",
    "        }\n",
    "    },\n",
    "    {\n",
    "        \"model\": \"textExtract.extracttext\",\n",
    "        \"pk\": 38,\n",
    "        \"fields\": {\n",
    "            \"src_img_id\": 6,\n",
    "            \"res_img_id\": null,\n",
    "            \"src_text\": \"맑\",\n",
    "            \"trs_text\": null,\n",
    "            \"coordinate\": \"[[622, 348], [674, 348], [674, 410], [622, 410]]\"\n",
    "        }\n",
    "    },\n",
    "    {\n",
    "        \"model\": \"textExtract.extracttext\",\n",
    "        \"pk\": 39,\n",
    "        \"fields\": {\n",
    "            \"src_img_id\": 6,\n",
    "            \"res_img_id\": null,\n",
    "            \"src_text\": \"대학원\",\n",
    "            \"trs_text\": null,\n",
    "            \"coordinate\": \"[[585, 647], [727, 647], [727, 709], [585, 709]]\"\n",
    "        }\n",
    "    },\n",
    "    {\n",
    "        \"model\": \"textExtract.extracttext\",\n",
    "        \"pk\": 40,\n",
    "        \"fields\": {\n",
    "            \"src_img_id\": 6,\n",
    "            \"res_img_id\": null,\n",
    "            \"src_text\": \"가려고요!\",\n",
    "            \"trs_text\": null,\n",
    "            \"coordinate\": \"[[557, 705], [767, 705], [767, 765], [557, 765]]\"\n",
    "        }\n",
    "    }\n",
    "]"
   ]
  },
  {
   "cell_type": "code",
   "execution_count": null,
   "metadata": {},
   "outputs": [],
   "source": []
  }
 ],
 "metadata": {
  "kernelspec": {
   "display_name": "Python 3.8.8 ('myvenv': venv)",
   "language": "python",
   "name": "python3"
  },
  "language_info": {
   "codemirror_mode": {
    "name": "ipython",
    "version": 3
   },
   "file_extension": ".py",
   "mimetype": "text/x-python",
   "name": "python",
   "nbconvert_exporter": "python",
   "pygments_lexer": "ipython3",
   "version": "3.8.8"
  },
  "orig_nbformat": 4,
  "vscode": {
   "interpreter": {
    "hash": "cb1960e25214dba8b03bdbf11ef89022c91142066aa8f8710195456193f165a2"
   }
  }
 },
 "nbformat": 4,
 "nbformat_minor": 2
}
